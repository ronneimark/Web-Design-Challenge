{
 "cells": [
  {
   "cell_type": "markdown",
   "metadata": {},
   "source": [
    "# WeatherPy\n",
    "----\n",
    "\n",
    "#### Note\n",
    "* Instructions have been included for each segment. You do not have to follow them exactly, but they are included to help you think through the steps."
   ]
  },
  {
   "cell_type": "code",
   "execution_count": 1,
   "metadata": {
    "scrolled": true
   },
   "outputs": [
    {
     "ename": "ModuleNotFoundError",
     "evalue": "No module named 'api_keys'",
     "output_type": "error",
     "traceback": [
      "\u001b[1;31m---------------------------------------------------------------------------\u001b[0m",
      "\u001b[1;31mModuleNotFoundError\u001b[0m                       Traceback (most recent call last)",
      "\u001b[1;32m<ipython-input-1-bb5e976e7ba2>\u001b[0m in \u001b[0;36m<module>\u001b[1;34m\u001b[0m\n\u001b[0;32m      9\u001b[0m \u001b[1;33m\u001b[0m\u001b[0m\n\u001b[0;32m     10\u001b[0m \u001b[1;31m# Import API key\u001b[0m\u001b[1;33m\u001b[0m\u001b[1;33m\u001b[0m\u001b[1;33m\u001b[0m\u001b[0m\n\u001b[1;32m---> 11\u001b[1;33m \u001b[1;32mfrom\u001b[0m \u001b[0mapi_keys\u001b[0m \u001b[1;32mimport\u001b[0m \u001b[0mapi_key\u001b[0m\u001b[1;33m,\u001b[0m \u001b[0mgkey\u001b[0m\u001b[1;33m\u001b[0m\u001b[1;33m\u001b[0m\u001b[0m\n\u001b[0m\u001b[0;32m     12\u001b[0m \u001b[1;33m\u001b[0m\u001b[0m\n\u001b[0;32m     13\u001b[0m \u001b[1;31m# Incorporated citipy to determine city based on latitude and longitude\u001b[0m\u001b[1;33m\u001b[0m\u001b[1;33m\u001b[0m\u001b[1;33m\u001b[0m\u001b[0m\n",
      "\u001b[1;31mModuleNotFoundError\u001b[0m: No module named 'api_keys'"
     ]
    }
   ],
   "source": [
    "# Dependencies and Setup\n",
    "import matplotlib.pyplot as plt\n",
    "import pandas as pd\n",
    "import numpy as np\n",
    "import requests\n",
    "import time\n",
    "from datetime import datetime, timedelta\n",
    "from ipywidgets.embed import embed_minimal_html\n",
    "\n",
    "# Import API key\n",
    "from api_keys import api_key, gkey\n",
    "\n",
    "# Incorporated citipy to determine city based on latitude and longitude\n",
    "from citipy import citipy\n",
    "\n",
    "# Output File (CSV)\n",
    "output_data_file = \"output_data/cities.csv\"\n",
    "\n",
    "# Range of latitudes and longitudes\n",
    "lat_range = (-90, 90)\n",
    "lng_range = (-180, 180)\n",
    "\n",
    "base_url = \"http://api.openweathermap.org/data/2.5/weather?\""
   ]
  },
  {
   "cell_type": "markdown",
   "metadata": {},
   "source": [
    "## Generate Cities List"
   ]
  },
  {
   "cell_type": "code",
   "execution_count": null,
   "metadata": {},
   "outputs": [],
   "source": [
    "# List for holding lat_lngs and cities\n",
    "lat_lngs = []\n",
    "cities = []\n",
    "\n",
    "# Create a set of random lat and lng combinations\n",
    "lats = np.random.uniform(low=-90.000, high=90.000, size=1700)\n",
    "lngs = np.random.uniform(low=-180.000, high=180.000, size=1700)\n",
    "lat_lngs = zip(lats, lngs)\n",
    "\n",
    "# Identify nearest city for each lat, lng combination\n",
    "for lat_lng in lat_lngs:\n",
    "    city = citipy.nearest_city(lat_lng[0], lat_lng[1]).city_name\n",
    "    \n",
    "    # If the city is unique, then add it to a our cities list\n",
    "    if city not in cities:\n",
    "        cities.append(city)\n",
    "\n",
    "# Print the city count to confirm sufficient count\n",
    "len(cities)"
   ]
  },
  {
   "cell_type": "markdown",
   "metadata": {},
   "source": [
    "### Perform API Calls\n",
    "* Perform a weather check on each city using a series of successive API calls.\n",
    "* Include a print log of each city as it'sbeing processed (with the city number and city name).\n"
   ]
  },
  {
   "cell_type": "code",
   "execution_count": null,
   "metadata": {},
   "outputs": [],
   "source": [
    "city_weather_data = []\n",
    "query_url = base_url + \"appid=\" + api_key + \"&units=metric&q=\"\n",
    "\n",
    "i=0\n",
    "\n",
    "for item in cities:\n",
    "    \n",
    "    try:\n",
    "       \n",
    "        response = requests.get(query_url + item).json()\n",
    "        city = response['name']\n",
    "        cloudiness = response['clouds']['all']\n",
    "        if cloudiness > 100:\n",
    "            cloudiness = \"\"\n",
    "        country = response['sys']['country']\n",
    "        date = response['dt']\n",
    "        humidity = response['main']['humidity']\n",
    "        if humidity > 100: \n",
    "            humidity = \"\"\n",
    "        lat=response['coord']['lat']\n",
    "        lng=response['coord']['lon']\n",
    "        max_temp=response['main']['temp_max']\n",
    "        wind_speed=response['wind']['speed']\n",
    "        \n",
    "        print(f\"Reading city number {i}: {item}\")\n",
    "            \n",
    "        dict = {\"City\":city,\"Country\":country,\"Date\":date,\"Humidity\":humidity,\"Lat\":lat,\"Lng\":lng,\n",
    "           \"Max Temp\":max_temp,\"Wind Speed\":wind_speed,\"Cloudiness\":cloudiness}\n",
    "\n",
    "        city_weather_data.append(dict)\n",
    "        \n",
    "        i += 1\n",
    "  \n",
    "    except:\n",
    "        \n",
    "        print(f'error reading city: {item}')\n",
    "     \n",
    "    time.sleep(1)"
   ]
  },
  {
   "cell_type": "markdown",
   "metadata": {},
   "source": [
    "### Convert Raw Data to DataFrame\n",
    "* Export the city data into a .csv.\n",
    "* Display the DataFrame"
   ]
  },
  {
   "cell_type": "code",
   "execution_count": null,
   "metadata": {},
   "outputs": [],
   "source": [
    "city_weather_data_df = pd.DataFrame(city_weather_data)\n",
    "city_weather_data_df['Date'] = pd.to_datetime(city_weather_data_df['Date'],unit='s')\n",
    "city_weather_data_df['Date'] = city_weather_data_df['Date'].dt.date\n",
    "city_weather_data_df.to_csv(output_data_file)\n",
    "city_weather_data_df\n"
   ]
  },
  {
   "cell_type": "code",
   "execution_count": null,
   "metadata": {},
   "outputs": [],
   "source": [
    "city_weather_data_df.to_csv(r\"C:\\Users\\ronne\\OneDrive\\Desktop\\ClassRepo\\Homework\\WebDesignHomework\\Web-Design-Challenge\\NewResources\\weatherdata.csv\")"
   ]
  },
  {
   "cell_type": "markdown",
   "metadata": {},
   "source": [
    "### Plotting the Data\n",
    "* Use proper labeling of the plots using plot titles (including date of analysis) and axes labels.\n",
    "* Save the plotted figures as .pngs."
   ]
  },
  {
   "cell_type": "markdown",
   "metadata": {},
   "source": [
    "#### Latitude vs. Temperature Plot"
   ]
  },
  {
   "cell_type": "code",
   "execution_count": null,
   "metadata": {},
   "outputs": [],
   "source": [
    "date2 = datetime.fromtimestamp(date).strftime('%m/%d/%Y')\n"
   ]
  },
  {
   "cell_type": "code",
   "execution_count": null,
   "metadata": {},
   "outputs": [],
   "source": [
    "\n",
    "plt.scatter(city_weather_data_df['Lat'], city_weather_data_df['Max Temp'], marker = \"*\")\n",
    "plt.title('{0} {1}'.format(\"Latitude vs Temperature\", date2), fontsize =38)\n",
    "plt.xlabel(\"Latitude\", fontsize = 18)\n",
    "plt.ylabel(\"Temperature (Celcius)\", fontsize =18)\n",
    "plt.rcParams[\"figure.figsize\"] = [16,8]\n",
    "plt.rcParams['xtick.labelsize']=12\n",
    "plt.rcParams['ytick.labelsize']=12\n",
    "plt.grid()\n",
    "plt.savefig(r\"C:\\Users\\ronne\\OneDrive\\Desktop\\ClassRepo\\Homework\\WebDesignHomework\\Web-Design-Challenge\\NewResources\\Temperature.png\")\n",
    "plt.show()"
   ]
  },
  {
   "cell_type": "markdown",
   "metadata": {},
   "source": [
    "#### Latitude vs. Humidity Plot"
   ]
  },
  {
   "cell_type": "code",
   "execution_count": null,
   "metadata": {},
   "outputs": [],
   "source": [
    "plt.scatter(city_weather_data_df['Lat'], city_weather_data_df['Humidity'], marker = \"*\")\n",
    "plt.title('{0} {1}'.format(\"Latitude vs Humidity\", date2), fontsize =38)\n",
    "plt.xlabel(\"Latitude\", fontsize = 18)\n",
    "plt.ylabel(\"Humidity (%)\", fontsize =18)\n",
    "plt.rcParams[\"figure.figsize\"] = [16,8]\n",
    "plt.rcParams['xtick.labelsize']=12\n",
    "plt.rcParams['ytick.labelsize']=12\n",
    "plt.grid()\n",
    "plt.savefig(r\"C:\\Users\\ronne\\OneDrive\\Desktop\\ClassRepo\\Homework\\WebDesignHomework\\Web-Design-Challenge\\NewResources\\Humidity.png\")\n",
    "plt.show()"
   ]
  },
  {
   "cell_type": "markdown",
   "metadata": {},
   "source": [
    "#### Latitude vs. Cloudiness Plot"
   ]
  },
  {
   "cell_type": "code",
   "execution_count": null,
   "metadata": {},
   "outputs": [],
   "source": [
    "plt.scatter(city_weather_data_df['Lat'], city_weather_data_df['Cloudiness'], marker = \"*\")\n",
    "plt.title('{0} {1}'.format(\"Latitude vs Cloudiness\", date2), fontsize =38)\n",
    "plt.xlabel(\"Latitude\", fontsize = 18)\n",
    "plt.ylabel(\"Cloudiness (%)\", fontsize =18)\n",
    "plt.rcParams[\"figure.figsize\"] = [16,8]\n",
    "plt.rcParams['xtick.labelsize']=12\n",
    "plt.rcParams['ytick.labelsize']=12\n",
    "plt.grid()\n",
    "plt.savefig(r\"C:\\Users\\ronne\\OneDrive\\Desktop\\ClassRepo\\Homework\\WebDesignHomework\\Web-Design-Challenge\\NewResources\\Cloudiness.png\")\n",
    "plt.show()"
   ]
  },
  {
   "cell_type": "markdown",
   "metadata": {},
   "source": [
    "#### Latitude vs. Wind Speed Plot"
   ]
  },
  {
   "cell_type": "code",
   "execution_count": null,
   "metadata": {
    "scrolled": true
   },
   "outputs": [],
   "source": [
    "plt.scatter(city_weather_data_df['Lat'], city_weather_data_df['Wind Speed'], marker = \"*\")\n",
    "plt.title('{0} {1}'.format(\"Latitude vs Wind Speed\", date2), fontsize =38)\n",
    "plt.xlabel(\"Latitude\", fontsize = 18)\n",
    "plt.ylabel(\"Wind Speed (meters/second)\", fontsize =18)\n",
    "plt.rcParams[\"figure.figsize\"] = [16,8]\n",
    "plt.rcParams['xtick.labelsize']=12\n",
    "plt.rcParams['ytick.labelsize']=12\n",
    "plt.grid()\n",
    "plt.savefig(r\"C:\\Users\\ronne\\OneDrive\\Desktop\\ClassRepo\\Homework\\WebDesignHomework\\Web-Design-Challenge\\NewResources\\WindSpeed.png\")\n",
    "plt.show()"
   ]
  },
  {
   "cell_type": "markdown",
   "metadata": {},
   "source": [
    "Observations:\n",
    "\n",
    "1: Some of the openweather entries contain % Humidity that is above 100%, which is not possible and which skews the visualization of the data.   As such, I exclude any values over 100% on Humidity or Cloudiness.\n",
    "\n",
    "2: The scatterplot for temperature vs latitude reflect the expected result of high values at the equator and low values at the polls.  This was just as pronounced when a small number of datapoints was plotted as it was when 500+ points were plotted.\n",
    "\n",
    "3: The scatterplot for humidity vs. latitude reflects a less pronounced trend, but closer to the equator, humidity is more consistently high, in comparison to spots more distant from the equator.  In earlier runs of the data with less than 500 points, this was unpronounced and no such observation was possible, but becomes clearer with a large number of datapoints.   There does not appear to be a correlation between latitude and either cloudiness or wind speed.\n",
    "\n",
    "\n"
   ]
  },
  {
   "cell_type": "code",
   "execution_count": null,
   "metadata": {},
   "outputs": [],
   "source": [
    "#from api_keys import gkey\n",
    "import webbrowser\n",
    "import gmaps\n",
    "from random import randint\n",
    "\n",
    "gmaps.configure(api_key=gkey)\n",
    "\n",
    "coordinate_list = []\n",
    "city_list = []\n",
    "x=0\n",
    "for rows in city_weather_data_df.iterrows():\n",
    "    latitude=city_weather_data_df.iloc[x,5]\n",
    "    longitude=city_weather_data_df.iloc[x,6]\n",
    "    tuplecoord=(latitude,longitude)\n",
    "    city = city_weather_data_df.iloc[x,0]\n",
    "    country = city_weather_data_df.iloc[x,2]\n",
    "    temp = city_weather_data_df.iloc[x,7]\n",
    "    celsius= int(temp)\n",
    "    fahrenheit= int((temp*9/5) + 32)\n",
    "    cityname = f'{city}, {country}: {celsius}&#176;C/{fahrenheit}&deg;F'\n",
    "    coordinate_list.append(tuplecoord)\n",
    "    city_list.append(cityname)\n",
    "    x+=1\n",
    "    \n",
    "bins = pd.cut(city_weather_data_df['Max Temp'],6, labels = [(148,0,211),(0,0,255),(0,128,0),(255,255,0),(255,128,0),(255,0,0)])\n",
    "colors = bins.tolist()            \n",
    "\n",
    "bins"
   ]
  },
  {
   "cell_type": "code",
   "execution_count": null,
   "metadata": {},
   "outputs": [],
   "source": [
    "coordinates = randint(0,len(coordinate_list))\n",
    "figa = gmaps.figure(center=coordinate_list[coordinates], zoom_level=10, map_type = \"HYBRID\", display_toolbar = True)\n",
    "#marker_layera = gmaps.symbol_layer(coordinate_list[coordinates], info_box_content=city_list[coordinates])\n",
    "#figa.add_layer(marker_layera)\n",
    "\n",
    "figa"
   ]
  },
  {
   "cell_type": "code",
   "execution_count": null,
   "metadata": {},
   "outputs": [],
   "source": [
    "figb = gmaps.figure(center=(0,0), zoom_level=2)\n",
    "locations = coordinate_list\n",
    "symbol_layerb = gmaps.symbol_layer(locations, info_box_content=city_list, fill_color = colors, stroke_color=colors, scale=3)\n",
    "figb.add_layer(symbol_layerb)\n",
    "embed_minimal_html('export.html', views=[figb])\n",
    "figb"
   ]
  },
  {
   "cell_type": "code",
   "execution_count": null,
   "metadata": {},
   "outputs": [],
   "source": []
  }
 ],
 "metadata": {
  "anaconda-cloud": {},
  "kernel_info": {
   "name": "python3"
  },
  "kernelspec": {
   "display_name": "Python 3",
   "language": "python",
   "name": "python3"
  },
  "language_info": {
   "codemirror_mode": {
    "name": "ipython",
    "version": 3
   },
   "file_extension": ".py",
   "mimetype": "text/x-python",
   "name": "python",
   "nbconvert_exporter": "python",
   "pygments_lexer": "ipython3",
   "version": "3.6.9"
  },
  "nteract": {
   "version": "0.12.3"
  }
 },
 "nbformat": 4,
 "nbformat_minor": 2
}
